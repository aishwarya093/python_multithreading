{
  "cells": [
    {
      "cell_type": "code",
      "source": [
        "#  What is the difference between interpreted and compiled languages?\n",
        "# Interpreted: Code is run step-by-step, making it slower but easier to fix mistakes (e.g., Python).\n",
        "# Compiled: Code is turned into a machine language file before running, making it faster but less flexible (e.g., C++).\n"
      ],
      "metadata": {
        "id": "HuB5kH1PXxQu"
      },
      "execution_count": 2,
      "outputs": []
    },
    {
      "cell_type": "code",
      "source": [
        "# What is exception handling in Python?\n",
        "# It's a way to deal with errors so your program doesn't crash.\n"
      ],
      "metadata": {
        "id": "m86DH9KfX1Mx"
      },
      "execution_count": 3,
      "outputs": []
    },
    {
      "cell_type": "code",
      "source": [
        "# What is the purpose of the finally block in exception handling?\n",
        "# A part of code that always runs, even if there's an error—good for cleanup like closing files."
      ],
      "metadata": {
        "id": "CI8erDneX5EB"
      },
      "execution_count": 4,
      "outputs": []
    },
    {
      "cell_type": "code",
      "source": [
        "# What is logging in Python?\n",
        "# Think of it as a diary for your program. It writes down what happens so you can find problems later."
      ],
      "metadata": {
        "id": "havDLlT5X6aY"
      },
      "execution_count": 5,
      "outputs": []
    },
    {
      "cell_type": "code",
      "source": [
        "# What is the significance of the __del__ method in Python?\n",
        "# Called when Python removes an object from memory, like cleaning up before throwing something away."
      ],
      "metadata": {
        "id": "Y6vksuJ6X7ZY"
      },
      "execution_count": 6,
      "outputs": []
    },
    {
      "cell_type": "code",
      "source": [
        "# What is the difference between import and from ... import in Python?\n",
        "# import: Brings the whole toolbox (module).\n",
        "# from ... import: Brings just the tools you need."
      ],
      "metadata": {
        "id": "_-F6eMjxX7mg"
      },
      "execution_count": 7,
      "outputs": []
    },
    {
      "cell_type": "code",
      "source": [
        "#  How can you handle multiple exceptions in Python?\n",
        "# You can catch multiple types of errors by listing them together or handling them one by one."
      ],
      "metadata": {
        "id": "ptQTjlUmX7uI"
      },
      "execution_count": 8,
      "outputs": []
    },
    {
      "cell_type": "code",
      "source": [
        "# What is the purpose of the with statement when handling files in Python?\n",
        "# It’s like a contract: it opens a file for you and ensures it’s closed when you're done."
      ],
      "metadata": {
        "id": "natd85VzX7zI"
      },
      "execution_count": 9,
      "outputs": []
    },
    {
      "cell_type": "code",
      "source": [
        "#  What is the difference between multithreading and multiprocessing?\n",
        "# Multithreading: Doing many tasks in one process (good for waiting tasks like downloads).\n",
        "# Multiprocessing: Running tasks in separate processes (good for heavy work like math calculations)."
      ],
      "metadata": {
        "id": "8wuGY2ilX71d"
      },
      "execution_count": 10,
      "outputs": []
    },
    {
      "cell_type": "code",
      "source": [
        "# What are the advantages of using logging in a program?\n",
        "# Helps you figure out what happened in your program when things go wrong."
      ],
      "metadata": {
        "id": "x6jnnKlhX73-"
      },
      "execution_count": 11,
      "outputs": []
    },
    {
      "cell_type": "code",
      "source": [
        "# What is memory management in Python?\n",
        "# Python automatically manages memory for you, like cleaning up unused stuff."
      ],
      "metadata": {
        "id": "QqOAMCAHX76b"
      },
      "execution_count": 12,
      "outputs": []
    },
    {
      "cell_type": "code",
      "source": [
        "# What are the basic steps involved in exception handling in Python?\n",
        "# Wrap risky code in try.\n",
        "# Handle specific errors with except.\n",
        "# Run extra code if there’s no error with else.\n",
        "# Clean up with finally."
      ],
      "metadata": {
        "id": "9DOr8xKvX79J"
      },
      "execution_count": 13,
      "outputs": []
    },
    {
      "cell_type": "code",
      "source": [
        "# Why is memory management important in Python?\n",
        "# Keeps your program from wasting memory or slowing down."
      ],
      "metadata": {
        "id": "3bCYBDiMX7_n"
      },
      "execution_count": 14,
      "outputs": []
    },
    {
      "cell_type": "code",
      "source": [
        "# What is the role of try and except in exception handling?\n",
        "# try: Test for errors.\n",
        "# except: Fix or handle the error if it happens."
      ],
      "metadata": {
        "id": "z1wtqfrSX8CH"
      },
      "execution_count": 15,
      "outputs": []
    },
    {
      "cell_type": "code",
      "source": [
        "#  How does Python's garbage collection system work?\n",
        "# Python gets rid of unused objects to free up memory."
      ],
      "metadata": {
        "id": "q_kmhp4vX8Fs"
      },
      "execution_count": 16,
      "outputs": []
    },
    {
      "cell_type": "code",
      "source": [
        "# What is the purpose of the else block in exception handling?\n",
        "# else Block:\n",
        "# Runs code only if no error happens."
      ],
      "metadata": {
        "id": "bUZX97JnYrr0"
      },
      "execution_count": 17,
      "outputs": []
    },
    {
      "cell_type": "code",
      "source": [
        "# What are the common logging levels in Python?\n",
        "# DEBUG, INFO, WARNING, ERROR, CRITICAL: Different levels of how serious the message is."
      ],
      "metadata": {
        "id": "habuU9DnYrt6"
      },
      "execution_count": 18,
      "outputs": []
    },
    {
      "cell_type": "code",
      "source": [
        "# What is the difference between os.fork() and multiprocessing in Python?\n",
        "# os.fork(): A basic tool to create a new process.\n",
        "# Multiprocessing: A fancier tool that works everywhere."
      ],
      "metadata": {
        "id": "aH4Dhgd3YrwO"
      },
      "execution_count": 19,
      "outputs": []
    },
    {
      "cell_type": "code",
      "source": [
        "# What is the importance of closing a file in Python?\n",
        "# To avoid issues like losing data or locking the file."
      ],
      "metadata": {
        "id": "lmaJE7VPYryW"
      },
      "execution_count": 20,
      "outputs": []
    },
    {
      "cell_type": "code",
      "source": [
        "# What is the difference between file.read() and file.readline() in Python?\n",
        "# read(): Reads everything.\n",
        "# readline(): Reads one line."
      ],
      "metadata": {
        "id": "AXD3KosfYr0e"
      },
      "execution_count": 21,
      "outputs": []
    },
    {
      "cell_type": "code",
      "source": [
        "# What is the logging module in Python used for?\n",
        "# Used to keep a record of what happens in your program."
      ],
      "metadata": {
        "id": "nN4-T368Y2Aw"
      },
      "execution_count": 22,
      "outputs": []
    },
    {
      "cell_type": "code",
      "source": [
        "# What is the os module in Python used for in file handling?\n",
        "# Helps you work with files and folders, like creating or deleting them."
      ],
      "metadata": {
        "id": "P1kgk9frY19P"
      },
      "execution_count": 23,
      "outputs": []
    },
    {
      "cell_type": "code",
      "source": [
        "#  What are the challenges associated with memory management in Python?\n",
        "# Issues like using too much memory or leaving unused stuff behind."
      ],
      "metadata": {
        "id": "RcxYUtIGY1ys"
      },
      "execution_count": 24,
      "outputs": []
    },
    {
      "cell_type": "code",
      "source": [
        "#  How do you raise an exception manually in Python?\n",
        "# You can create your own error using raise, like saying, “This is wrong!”"
      ],
      "metadata": {
        "id": "m64xwKN_Yr35"
      },
      "execution_count": 25,
      "outputs": []
    },
    {
      "cell_type": "code",
      "source": [
        "# Why is it important to use multithreading in certain applications?\n",
        "# It keeps things moving when your program is waiting for something (like loading a webpage)."
      ],
      "metadata": {
        "id": "ABYC1hWNY9_1"
      },
      "execution_count": 26,
      "outputs": []
    },
    {
      "cell_type": "code",
      "source": [],
      "metadata": {
        "id": "P6t2Q8ERY98U"
      },
      "execution_count": 26,
      "outputs": []
    }
  ],
  "metadata": {
    "language_info": {
      "name": "python"
    },
    "colab": {
      "provenance": []
    },
    "kernelspec": {
      "name": "python3",
      "display_name": "Python 3"
    }
  },
  "nbformat": 4,
  "nbformat_minor": 0
}